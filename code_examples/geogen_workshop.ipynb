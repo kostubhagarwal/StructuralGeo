{
  "cells": [
    {
      "cell_type": "markdown",
      "metadata": {
        "id": "ZsXmqC881y8U"
      },
      "source": [
        "# Environment Setup\n",
        "\n",
        "Github: https://github.com/eldadHaber/StructuralGeo\n",
        "\n",
        "Installation instructions can be found in the repo Readme. For this notebook, the project is installed using an access token. PyTorch is also required to use the torch dataset."
      ]
    },
    {
      "cell_type": "markdown",
      "metadata": {
        "id": "Qq5cLl-Wz_JE"
      },
      "source": [
        "# GeoGen Workshop\n",
        "\n",
        "This notebook is designed to give a basic overview of the features of the GeoGen library and how to adapt and refine the accompanying dataloader.\n",
        "\n",
        "The library can be seperated into two main components:\n",
        "\n",
        "1.   A parameter driven geo-modelling framework: the computational engine, and\n",
        "2.   A randomization scheme for sequencing geo events and sampling their parameters: the generative engine.\n",
        "\n",
        "A torch dataset wrapper allows for streaming infinite samples from the randomization scheme provided.\n",
        "\n",
        "We will begin with an overview of the GeoGen process for synthesizing torch tensors, then move onto an application of the dataset to a machine learning problem.\n",
        "\n",
        "## Package Structure\n",
        "\n",
        "GeoGen is organised into packages, for these exercises we are primarily interested in dataset, generation, model, and plot. For convenience they can be imported in under name spaces.\n"
      ]
    },
    {
      "cell_type": "code",
      "execution_count": 1,
      "metadata": {
        "colab": {
          "base_uri": "https://localhost:8080/"
        },
        "id": "ZfBcJ4y65n9w",
        "outputId": "a9feade2-265d-4e80-f780-73611ecdcdd0"
      },
      "outputs": [
        {
          "name": "stdout",
          "output_type": "stream",
          "text": [
            "geogen.dataset\n",
            "geogen.filemanagement\n",
            "geogen.generation\n",
            "geogen.generation.markov_matrix\n",
            "geogen.model\n",
            "geogen.plot\n",
            "geogen.probability\n"
          ]
        }
      ],
      "source": [
        "import geogen\n",
        "import pkgutil\n",
        "\n",
        "def list_subpackages(package):\n",
        "  for importer, modname, ispkg in pkgutil.walk_packages(package.__path__, package.__name__ + \".\"):\n",
        "    if ispkg:\n",
        "      print(modname)\n",
        "\n",
        "# Call the function with the desired package\n",
        "list_subpackages(geogen)"
      ]
    },
    {
      "cell_type": "code",
      "execution_count": 2,
      "metadata": {
        "id": "yFxxqKeA7AJk"
      },
      "outputs": [],
      "source": [
        "from geogen import model      as geo\n",
        "from geogen import generation as gen\n",
        "from geogen import plot       as geovis\n",
        "\n",
        "import numpy as np\n",
        "import pyvista as pv\n",
        "import matplotlib.pyplot as plt\n",
        "import torch"
      ]
    },
    {
      "cell_type": "markdown",
      "metadata": {
        "id": "qWjFQBX31mOi"
      },
      "source": [
        "## GeoModels and GeoProcesses\n",
        "\n",
        "A `GeoModel` is a collection of `numpy` arrays that form the model space, and corresponding methods to apply a sequence of one or more geological events called `GeoProcesses`\n",
        "\n",
        "A the model is a meshgrid with XYZ bounds and resolution. The boundaries and resolution can be specified for each axis, or broadcast to all three\n",
        ".\n",
        "\n"
      ]
    },
    {
      "cell_type": "code",
      "execution_count": 3,
      "metadata": {
        "id": "DzD6uRsf7ZUr"
      },
      "outputs": [],
      "source": [
        "model = geo.GeoModel(bounds = (-10,10), resolution = 16)\n",
        "model = geo.GeoModel(bounds = ((-10,10), (-10,10), (-10,10)), resolution = (8,8,8), name = \"Simple Tutorial Model\")"
      ]
    },
    {
      "cell_type": "markdown",
      "metadata": {
        "id": "j2qgxrgd9N-5"
      },
      "source": [
        "### A simple history\n",
        "A list of GeoProcesses can be added to a GeoModel to build up a history of events. Once a full history is defined, the model can be computed to visualize the cumulative effects of the geological processes. A history is a `List` of `GeoProcess`, for reference to available `GeoProcess` have a look at [this summary pdf](https://drive.google.com/file/d/1OlpfKoA8ChHC7-sEX1StFmJkLvM6p5-g/view?usp=sharing). The objects are all included in the modelling package."
      ]
    },
    {
      "cell_type": "code",
      "execution_count": 4,
      "metadata": {
        "colab": {
          "base_uri": "https://localhost:8080/",
          "height": 334
        },
        "id": "AO9EbxH29UGP",
        "outputId": "6d88f97a-886f-4fb2-b19b-fab338e3484e"
      },
      "outputs": [
        {
          "name": "stdout",
          "output_type": "stream",
          "text": [
            "Unique values: [ 2. nan], in data array with shape (8, 8, 8)\n",
            "[[ 2.  2.  2.  2.  2. nan nan nan]\n",
            " [ 2.  2.  2.  2.  2. nan nan nan]\n",
            " [ 2.  2.  2.  2.  2. nan nan nan]\n",
            " [ 2.  2.  2.  2.  2. nan nan nan]\n",
            " [ 2.  2.  2.  2.  2. nan nan nan]\n",
            " [ 2.  2.  2.  2.  2. nan nan nan]\n",
            " [ 2.  2.  2.  2.  2. nan nan nan]\n",
            " [ 2.  2.  2.  2.  2. nan nan nan]]\n",
            "Geological History:\n",
            "1: Bedrock: with z <= 4.0 and value 2.0\n",
            "---------------\n"
          ]
        },
        {
          "data": {
            "text/html": [
              "\n",
              "        <table>\n",
              "            <tr>\n",
              "                <th style=\"text-align: left;\">Parameter</th>\n",
              "                <th style=\"text-align: left;\">Value</th>\n",
              "                <th style=\"text-align: left; vertical-align: top;\" rowspan=\"5\">History</th>\n",
              "            </tr>\n",
              "            <tr><td>Name</td><td>Simple Tutorial Model</td><td rowspan=\"5\"><div style='text-align: left;'><ol><li>Bedrock: with z <= 4.0 and value 2.0</li></ol></div></td></tr>\n",
              "            <tr><td>Data Type</td><td><class 'numpy.float32'></td></tr>\n",
              "            <tr><td>Bounds</td><td>((-10, 10), (-10, 10), (-10, 10))</td></tr>\n",
              "            <tr><td>Resolution</td><td>(8, 8, 8)</td></tr>\n",
              "        </table>\n",
              "        "
            ],
            "text/plain": [
              "GeoModel(name=Simple Tutorial Model, bounds=((-10, 10), (-10, 10), (-10, 10)), resolution=(8, 8, 8))"
            ]
          },
          "execution_count": 4,
          "metadata": {},
          "output_type": "execute_result"
        }
      ],
      "source": [
        "base_strata = geo.Bedrock(base = 4, value = 2)\n",
        "\n",
        "model.clear_history()\n",
        "model.add_history(base_strata)\n",
        "model.compute_model()\n",
        "\n",
        "data = model.get_data_grid()\n",
        "\n",
        "data.shape\n",
        "unique_vals = np.unique(data)\n",
        "print(f\"Unique values: {unique_vals}, in data array with shape {data.shape}\")\n",
        "print(data[1,:,:])\n",
        "print(model.get_history_string())\n",
        "print(\"---------------\")\n",
        "model"
      ]
    },
    {
      "cell_type": "markdown",
      "metadata": {
        "id": "nEk09xUqBBEi"
      },
      "source": [
        "#### Building More Complex Geological History:\n",
        "History Management: Add one or more events to the history using the add history method. The order of the events in the history list determines the sequence in which they are applied to the model. To clear the history use the clear history method. This will remove all events from the history list but not change the model data until it is recomputed."
      ]
    },
    {
      "cell_type": "code",
      "execution_count": 5,
      "metadata": {
        "colab": {
          "base_uri": "https://localhost:8080/",
          "height": 159
        },
        "id": "vsAKth7tA-QD",
        "outputId": "74cca89b-53ce-434d-f1a5-77b37d6a5b1f"
      },
      "outputs": [
        {
          "name": "stdout",
          "output_type": "stream",
          "text": [
            "Unique values: [0. 2. 3. 4. 5.], in data array with shape (128, 128, 128)\n"
          ]
        },
        {
          "data": {
            "text/html": [
              "\n",
              "        <table>\n",
              "            <tr>\n",
              "                <th style=\"text-align: left;\">Parameter</th>\n",
              "                <th style=\"text-align: left;\">Value</th>\n",
              "                <th style=\"text-align: left; vertical-align: top;\" rowspan=\"5\">History</th>\n",
              "            </tr>\n",
              "            <tr><td>Name</td><td>model</td><td rowspan=\"5\"><div style='text-align: left;'><ol><li>Bedrock: with z <= -4.0 and value 0.0</li><li>Fold: strike 0.0°, dip 90.0°, rake 0.0°, period 10.0,amplitude 2.0, origin ((0.00,0.00,0.00)).</li><li>Sedimentation: rock type values [2, 3, 4...], and thicknesses 1.000, 2.000, 3.000..., with base = nan</li><li>Fold: strike 90.0°, dip 90.0°, rake 0.0°, period 5.0,amplitude 1.0, origin ((0.00,0.00,0.00)).</li></ol></div></td></tr>\n",
              "            <tr><td>Data Type</td><td><class 'numpy.float32'></td></tr>\n",
              "            <tr><td>Bounds</td><td>((-10, 10), (-10, 10), (-10, 10))</td></tr>\n",
              "            <tr><td>Resolution</td><td>(128, 128, 128)</td></tr>\n",
              "        </table>\n",
              "        "
            ],
            "text/plain": [
              "GeoModel(name=model, bounds=((-10, 10), (-10, 10), (-10, 10)), resolution=(128, 128, 128))"
            ]
          },
          "execution_count": 5,
          "metadata": {},
          "output_type": "execute_result"
        }
      ],
      "source": [
        "model = geo.GeoModel(bounds=(-10, 10), resolution=128)\n",
        "\n",
        "base_strata = geo.Bedrock(base=-4, value=0)\n",
        "fold1 = geo.Fold(strike = 0, dip = 90, rake = 0, period = 10, amplitude=2)\n",
        "sediment = geo.Sedimentation(value_list=[2, 3, 4, 5,2], thickness_list=[1, 2,3,4,7])\n",
        "fold2 = geo.Fold(strike = 90, dip = 90, rake = 0, period = 5, amplitude=1)\n",
        "history = [base_strata, fold1, sediment, fold2]\n",
        "\n",
        "model.add_history(history)\n",
        "model.compute_model()\n",
        "\n",
        "data = model.get_data_grid()\n",
        "data.shape\n",
        "unique_vals = np.unique(data)\n",
        "print(f\"Unique values: {unique_vals}, in data array with shape {data.shape}\")\n",
        "model"
      ]
    },
    {
      "cell_type": "code",
      "execution_count": 6,
      "metadata": {
        "colab": {
          "base_uri": "https://localhost:8080/",
          "height": 451
        },
        "id": "zSxYNULoDqbL",
        "outputId": "b633b94b-eff7-4c32-d877-8b1b7bf91c8d"
      },
      "outputs": [
        {
          "data": {
            "text/plain": [
              "<matplotlib.image.AxesImage at 0x25d3b2d6a90>"
            ]
          },
          "execution_count": 6,
          "metadata": {},
          "output_type": "execute_result"
        },
        {
          "data": {
            "image/png": "[encoded data removed]",
            "text/plain": [
              "<Figure size 640x480 with 1 Axes>"
            ]
          },
          "metadata": {},
          "output_type": "display_data"
        }
      ],
      "source": [
        "data_slice = data[:,1,:]\n",
        "plt.imshow(data_slice, cmap='jet')"
      ]
    },
    {
      "cell_type": "markdown",
      "metadata": {
        "id": "h12VvXRDDHJZ"
      },
      "source": [
        "## Plotting Toolbox\n",
        "\n",
        "The models are difficult to visualize using matplotlib alone. Fortunately there are advanced scientific 3d visualization packages available, the details of which can be found in the repo code examples: PyvistaVisualizations\n",
        "\n",
        "Some curated constructions are available in the plot library:\n",
        "\n",
        "*   Volume View\n",
        "*   Orthogonal Slicing View\n",
        "*   N-Slice View\n",
        "*   One Slice View\n",
        "*   Transformation View\n",
        "*   Categorical View\n",
        "\n",
        "The ones used most frequently are *Volume* and *Categorical* view for inspecting data, and Transformation view for debugging.\n",
        "\n",
        "> 📝 **Note:**\n",
        ">\n",
        "> PyVista requires a virtual frame buffer to render on a remote server like Colab\n",
        ">\n",
        "> See https://tutorial.pyvista.org/getting-started.html\n"
      ]
    },
    {
      "cell_type": "code",
      "execution_count": 7,
      "metadata": {
        "colab": {
          "base_uri": "https://localhost:8080/",
          "height": 497
        },
        "id": "bpv3KRRRGP3X",
        "outputId": "69b814ac-e83f-46e4-b993-3d422a0c7b53"
      },
      "outputs": [
        {
          "data": {
            "application/vnd.jupyter.widget-view+json": {
              "model_id": "1cbb59eb03d1445a801b0331f3bcf378",
              "version_major": 2,
              "version_minor": 0
            },
            "text/plain": [
              "Widget(value='<iframe src=\"http://localhost:63856/index.html?ui=P_0x25d3b331050_0&reconnect=auto\" class=\"pyvis…"
            ]
          },
          "metadata": {},
          "output_type": "display_data"
        }
      ],
      "source": [
        "p = geovis.categorical_grid_view(model)\n",
        "p.window_size = (640,480)\n",
        "p.show()"
      ]
    },
    {
      "cell_type": "markdown",
      "metadata": {
        "id": "l7teaEIkSl_P"
      },
      "source": [
        "## Model Normalization\n",
        "Can you see a problem? The model was filled past the top and there is no interface between air and ground. Models can be automatically renormalized during or after computation. The default scheme will normalize to roughly 85% fill height with some variation."
      ]
    },
    {
      "cell_type": "code",
      "execution_count": 8,
      "metadata": {
        "colab": {
          "base_uri": "https://localhost:8080/",
          "height": 497
        },
        "id": "H77-xnUkS6F1",
        "outputId": "33cb7c28-db34-4bb5-f576-eba79b129420"
      },
      "outputs": [
        {
          "data": {
            "application/vnd.jupyter.widget-view+json": {
              "model_id": "937270e81fb14cfbb205a01b16a64731",
              "version_major": 2,
              "version_minor": 0
            },
            "text/plain": [
              "Widget(value='<iframe src=\"http://localhost:63856/index.html?ui=P_0x25d3b2bee10_1&reconnect=auto\" class=\"pyvis…"
            ]
          },
          "metadata": {},
          "output_type": "display_data"
        }
      ],
      "source": [
        "model.clear_data()\n",
        "model.compute_model(normalize=True)\n",
        "p = geovis.categorical_grid_view(model)\n",
        "p.window_size = (640,480)\n",
        "p.show()"
      ]
    },
    {
      "cell_type": "markdown",
      "metadata": {
        "id": "qHwtV9Z-T3Dj"
      },
      "source": [
        "# Generative Layer\n",
        "\n",
        "GeoModels can be built by hand, but the process is time consuming and requires auditing. Trying to randomize too many parameters in an entire model at the same time is not feasible, instead it is easier to find randomization schemes for single geological events. This is the concept behind `GeoWord`s, a generic class for generating history snippets.\n",
        "\n",
        "All of the generative code is found withing the generation package, which we imported earlier as `gen`\n",
        "\n",
        "Before moving on we have a quick look at how a `GeoWord` works in principle, by making our own custom version of one:"
      ]
    },
    {
      "cell_type": "code",
      "execution_count": 9,
      "metadata": {
        "id": "_4DchLOlV_wL"
      },
      "outputs": [],
      "source": [
        "class MyNewGeoWord(gen.GeoWord):\n",
        "\n",
        "  # Contract method that needs to be defined by all GeoWords\n",
        "  def build_history(self):\n",
        "    base_strata = geo.Bedrock(base=self.rng.uniform(-8.-2) , value=0)\n",
        "    sediment = geo.Sedimentation(value_list=[2, 3, 4, 5], thickness_list=[1,2,3,4])\n",
        "    fold2 = geo.Fold(strike =   self.rng.uniform(0,360),\n",
        "                     dip =      self.rng.normal(90,10),\n",
        "                     rake =     self.rng.normal(0,20),\n",
        "                     period =   self.rng.uniform(5,15),\n",
        "                     amplitude= self.rng.normal(0,3))\n",
        "    # Inherited Methods\n",
        "    self.add_process(base_strata)\n",
        "    self.add_process(sediment)\n",
        "    self.add_process(fold2)"
      ]
    },
    {
      "cell_type": "markdown",
      "metadata": {
        "id": "1rg6gXFUe7XD"
      },
      "source": [
        "A sentence is a list of `GeoWord`"
      ]
    },
    {
      "cell_type": "code",
      "execution_count": 10,
      "metadata": {
        "colab": {
          "base_uri": "https://localhost:8080/",
          "height": 441
        },
        "id": "RoQJOlxGXS-c",
        "outputId": "b1af2357-ef26-47ee-8019-3a5ab95a1045"
      },
      "outputs": [
        {
          "data": {
            "application/vnd.jupyter.widget-view+json": {
              "model_id": "500fa869db0d40b7b1afb1a25c18f7ed",
              "version_major": 2,
              "version_minor": 0
            },
            "text/plain": [
              "Widget(value='<iframe src=\"http://localhost:63856/index.html?ui=P_0x25d3f1f4cd0_2&reconnect=auto\" class=\"pyvis…"
            ]
          },
          "metadata": {},
          "output_type": "display_data"
        },
        {
          "name": "stdout",
          "output_type": "stream",
          "text": [
            "Geological History:\n",
            "1: CompoundProcess (MyNewGeoWord) with 3 sub-processes:\n",
            "    1. Bedrock: with z <= -8.5 and value 0.0\n",
            "    2. Sedimentation: rock type values [2, 3, 4...], and thicknesses 1.000, 2.000, 3.000..., with base = nan\n",
            "    3. Fold: strike 302.0°, dip 81.6°, rake -15.1°, period 6.8,amplitude 3.9, origin ((0.00,0.00,0.00)).\n",
            "2: Shift: vector [0.         0.         2.37336031]\n"
          ]
        }
      ],
      "source": [
        "model = geo.GeoModel(bounds=(-10, 10), resolution=128)\n",
        "my_word = MyNewGeoWord()\n",
        "sentence = [my_word]\n",
        "history  = gen.generate_history(sentence)\n",
        "\n",
        "#Or equivalently for a single word, call its generator:\n",
        "history = MyNewGeoWord().generate()\n",
        "\n",
        "model.add_history(history)\n",
        "model.compute_model(normalize=True)\n",
        "p = geovis.volview(model)\n",
        "p.window_size = (320,320)\n",
        "p.show()\n",
        "print(model.get_history_string())"
      ]
    },
    {
      "cell_type": "markdown",
      "metadata": {
        "id": "dwJSEXk4er8Z"
      },
      "source": [
        "## Sentence Generation\n",
        "\n",
        "Now that we see how a single word works, we can use library words to make complex sentences.\n",
        "\n",
        "A word of caution here, these library words have been designed for large scale models measured in meters. The geomodel should reflect these design bounds in mind. The design parameters for the library words is stored alongside the words."
      ]
    },
    {
      "cell_type": "code",
      "execution_count": 11,
      "metadata": {
        "colab": {
          "base_uri": "https://localhost:8080/",
          "height": 962
        },
        "id": "BRKRJgR4eo6O",
        "outputId": "595d7880-edf8-4d8b-b5db-cd80f79ebe0b"
      },
      "outputs": [
        {
          "data": {
            "application/vnd.jupyter.widget-view+json": {
              "model_id": "459d2ada0d4d4424b1e467c82d5c76b2",
              "version_major": 2,
              "version_minor": 0
            },
            "text/plain": [
              "Widget(value='<iframe src=\"http://localhost:63856/index.html?ui=P_0x25d3f26da90_3&reconnect=auto\" class=\"pyvis…"
            ]
          },
          "metadata": {},
          "output_type": "display_data"
        },
        {
          "name": "stdout",
          "output_type": "stream",
          "text": [
            "Geological History:\n",
            "1: CompoundProcess (InfiniteSedimentTilted) with 4 sub-processes:\n",
            "    1. Bedrock: with z <= -17280.0 and value 0.0\n",
            "    2. Sedimentation: rock type values [1, 3, 1...], and thicknesses 393.344, 650.036, 526.525..., with base = -17280.0\n",
            "    3. Tilt: strike 131.4°, dip 21.0°,origin ((0, 0, 0))\n",
            "    4. UnconformityBase: base 1000.0, value nan\n",
            "2: CompoundProcess (FourierFold) with 1 sub-processes:\n",
            "    1. Fold: strike 172.8°, dip 106.6°, rake 251.7°, period 10207.3,amplitude 624.5, origin ((0.00,0.00,0.00)).\n",
            "3: CompoundProcess (CoarseRepeatSediment) with 1 sub-processes:\n",
            "    1. Sedimentation: rock type values [3], and thicknesses 414.619, with base = nan\n",
            "4: CompoundProcess (TiltCutFill) with 7 sub-processes:\n",
            "    1. Tilt: strike 40.7°, dip -11.4°,origin ((0, 0, 0))\n",
            "    2. Fold: strike 125.3°, dip 84.6°, rake 10.8°, period 13847.0,amplitude 208.1, origin ((0.00,0.00,0.00)).\n",
            "    3. Fold: strike 215.3°, dip 87.0°, rake -5.9°, period 8506.6,amplitude 144.5, origin ((0.00,0.00,0.00)).\n",
            "    4. UnconformityDepth: depth 801.4, value nan\n",
            "    5. Sedimentation: rock type values [3, 4], and thicknesses 647.686, 529.672, with base = nan\n",
            "    6. Fold: strike 215.3°, dip 87.0°, rake -5.9°, period 8506.6,amplitude -143.0, origin ((0.00,0.00,0.00)).\n",
            "    7. Fold: strike 125.3°, dip 84.6°, rake 10.8°, period 13847.0,amplitude -204.8, origin ((0.00,0.00,0.00)).\n",
            "5: CompoundProcess (OreDeposit: BlobCluster) with 3 sub-processes:\n",
            "    1. CompoundProcess (BlobWord) with 2 sub-processes:\n",
            "    1. Metaball: threshold 1.0, value 13.0, with 17 balls.\n",
            "    2. Metaball: threshold 1.0, value 13.0, with 17 balls.\n",
            "    2. CompoundProcess (BlobWord) with 2 sub-processes:\n",
            "    1. Metaball: threshold 1.0, value 13.0, with 36 balls.\n",
            "    2. Metaball: threshold 1.0, value 13.0, with 36 balls.\n",
            "    3. CompoundProcess (BlobWord) with 2 sub-processes:\n",
            "    1. Metaball: threshold 1.0, value 13.0, with 31 balls.\n",
            "    2. Metaball: threshold 1.0, value 13.0, with 31 balls.\n",
            "6: CompoundProcess (Fault: StrikeSlip) with 1 sub-processes:\n",
            "    1. Fault with strike 71.6°, dip 122.3°, rake 7.6°, amplitude -202.3, origin ((-1242.1994067858095, -3334.697610442341, 1461.3091405605992)).\n",
            "7: CompoundProcess (Fault: StrikeSlip) with 1 sub-processes:\n",
            "    1. Fault with strike 6.8°, dip 117.6°, rake -2.7°, amplitude -97.3, origin ((-2738.029413600262, 669.0190753415845, 794.223109625821)).\n",
            "8: Shift: vector [   0.           0.        -296.4372853]\n"
          ]
        }
      ],
      "source": [
        "bounds = (gen.BOUNDS_X, gen.BOUNDS_Y, gen.BOUNDS_Z)\n",
        "model = geo.GeoModel(bounds=bounds, resolution=(128,128,64))\n",
        "\n",
        "sentence = [gen.InfiniteSedimentTilted() , gen.FourierFold(), gen.CoarseRepeatSediment(), gen.TiltCutFill(), gen.OreDeposit(), gen.Fault(), gen.Fault(),]\n",
        "history = gen.generate_history(sentence)\n",
        "\n",
        "model.add_history(history)\n",
        "model.compute_model(normalize=True)\n",
        "p = geovis.volview(model)\n",
        "p.window_size = (320,320)\n",
        "p.show()\n",
        "print(model.get_history_string())"
      ]
    },
    {
      "cell_type": "markdown",
      "metadata": {
        "id": "ea4T9rRoj6r3"
      },
      "source": [
        "## Markov Chain Sentences\n",
        "\n",
        "Some groupings of geowords can be combined to automatically generate sentences."
      ]
    },
    {
      "cell_type": "code",
      "execution_count": 12,
      "metadata": {
        "colab": {
          "base_uri": "https://localhost:8080/",
          "height": 802
        },
        "id": "1pE1AHtfkGPQ",
        "outputId": "aa5baab5-db11-4933-b1be-565f04b579a3"
      },
      "outputs": [
        {
          "name": "stdout",
          "output_type": "stream",
          "text": [
            "Markov Sequence: ['BaseStrata', 'Pluton', 'Fault', 'Fold', 'End']\n"
          ]
        },
        {
          "data": {
            "application/vnd.jupyter.widget-view+json": {
              "model_id": "2dba05e064234b559ec8c4dd1ccdc78b",
              "version_major": 2,
              "version_minor": 0
            },
            "text/plain": [
              "Widget(value='<iframe src=\"http://localhost:63856/index.html?ui=P_0x25d3f23e750_4&reconnect=auto\" class=\"pyvis…"
            ]
          },
          "metadata": {},
          "output_type": "display_data"
        }
      ],
      "source": [
        "# The class has been configure to automatically parse the BOUNDS_X, Y, Z from earlier\n",
        "sampler = gen.MarkovGeostoryGenerator(model_bounds = None, model_resolution = (128,128,64))\n",
        "\n",
        "# Sample a sequence of geoword categories\n",
        "sequence = sampler._build_markov_sequence()\n",
        "print(f\"Markov Sequence: {sequence}\")\n",
        "\n",
        "# Or build a whole model\n",
        "model = sampler.generate_model()\n",
        "\n",
        "geovis.volview(model).show()"
      ]
    },
    {
      "cell_type": "markdown",
      "metadata": {
        "id": "RKU_ca7Q3Z2G"
      },
      "source": [
        "# Dataset and Dataloader"
      ]
    },
    {
      "cell_type": "markdown",
      "metadata": {
        "id": "gtdk3h9sGJ6S"
      },
      "source": [
        "A demonstration of the dataset with a torch dataloader wrapper is shown below. The important parameters to pass are the data shape (the voxel resolution) and the model bounds. Notice that the bounds have been imported from the generative package, since those are the same ones that were used when specifying the Geowords. Larger or smaller models can be experimented with as well."
      ]
    },
    {
      "cell_type": "code",
      "execution_count": 13,
      "metadata": {
        "id": "cJlrRv0Vx5AT"
      },
      "outputs": [],
      "source": [
        "from torch.utils.data import DataLoader\n",
        "from geogen.dataset import GeoData3DStreamingDataset\n",
        "\n",
        "# Note that the resolution should match the bounds in aspect ratio for cubic voxels\n",
        "# X or Y bounds can be reduced from standard size, but it is not recommended to decrease Z bounds\n",
        "DATA_SHAPE = (128,128,64)\n",
        "BOUNDS = (gen.BOUNDS_X, gen.BOUNDS_Y, gen.BOUNDS_Z)\n",
        "\n",
        "def get_data_loader(batch_size, device, shuffle=False):\n",
        "    dataset = GeoData3DStreamingDataset(\n",
        "        model_resolution=DATA_SHAPE,\n",
        "        model_bounds=BOUNDS,\n",
        "        dataset_size=10_000,  # Number of samples in one epoch\n",
        "        device=device,\n",
        "    )\n",
        "    dataloader = DataLoader(dataset,\n",
        "                            batch_size=batch_size,\n",
        "                            shuffle=shuffle,\n",
        "                            num_workers=2)\n",
        "    return dataloader\n"
      ]
    },
    {
      "cell_type": "markdown",
      "metadata": {
        "id": "jy-PR3_TSYBt"
      },
      "source": [
        "The **dataset** is generated on the fly, however the dataset has had an artifical set size placed on it. A model can be retrieved using indexing."
      ]
    },
    {
      "cell_type": "code",
      "execution_count": 14,
      "metadata": {
        "colab": {
          "base_uri": "https://localhost:8080/",
          "height": 383
        },
        "id": "g6kQ8DqbFEEj",
        "outputId": "3400d0f9-7772-45ba-e837-bc269ef24f19"
      },
      "outputs": [
        {
          "name": "stdout",
          "output_type": "stream",
          "text": [
            "MSE Diff: 11.006048202514648\n"
          ]
        }
      ],
      "source": [
        "from torch.nn.functional import mse_loss\n",
        "\n",
        "dataset = GeoData3DStreamingDataset(\n",
        "        model_resolution=DATA_SHAPE,\n",
        "        model_bounds=BOUNDS,\n",
        "        dataset_size=10_000,  # Number of samples in one epoch\n",
        "        device='cpu',\n",
        "    )\n",
        "\n",
        "sample1 = dataset[0]\n",
        "sample2 = dataset[0]\n",
        "\n",
        "diff = mse_loss(sample1, sample2)\n",
        "print(f\"MSE Diff: {diff}\")\n",
        "\n"
      ]
    }
  ],
  "metadata": {
    "colab": {
      "name": "geogen-workshop.ipynb",
      "provenance": []
    },
    "kernelspec": {
      "display_name": "ml",
      "language": "python",
      "name": "python3"
    },
    "language_info": {
      "codemirror_mode": {
        "name": "ipython",
        "version": 3
      },
      "file_extension": ".py",
      "mimetype": "text/x-python",
      "name": "python",
      "nbconvert_exporter": "python",
      "pygments_lexer": "ipython3",
      "version": "3.11.9"
    }
  },
  "nbformat": 4,
  "nbformat_minor": 0
}
