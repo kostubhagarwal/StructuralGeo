{
 "cells": [
  {
   "cell_type": "markdown",
   "metadata": {},
   "source": [
    "# Model Reviewer and Building GeoSentences\n",
    "A Model Reviewer that produces static images of generated models from a model generator function. A function that generates a history is passed and the Model Reviewer will render, display, and allow the option to reject or save the model."
   ]
  },
  {
   "cell_type": "code",
   "execution_count": 1,
   "metadata": {},
   "outputs": [],
   "source": [
    "import pyvista as pv\n",
    "pv.set_jupyter_backend('static')"
   ]
  },
  {
   "cell_type": "markdown",
   "metadata": {},
   "source": [
    "## Model History Generation\n",
    "The generation package contains a set of GeoWords and geological sentence builder functions that allow for specifying mini-histories formed of one or more GeoProcesses that have generating random variables attached to them. A `GeoWord` object is an object that packages one or more `GeoProcess` with constrained random variable parameters. It offers a convenient way to name parameterized snippets of geological history.\n",
    "\n",
    "The atomic operations on the model are the `GeoProcess` depositions and transformations that function as leaf nodes in a computational tree. These are like the basic building blocks or 'alphabet' of the model that can be used to form words. \n",
    "\n",
    "<img src=\"https://i.imgur.com/wudCw3Q.png\" width=\"800\" >\n",
    "\n",
    "Geowords are an extension of the tree computation that fills in the missing parameters of the `GeoProcess` leaves and wraps the snippets in a `CompoundProcess`\n",
    "\n",
    "Note that we can view a table of the history in Jupyter by simply calling the `display(model)` function. This will render the history in a human-readable html table format."
   ]
  },
  {
   "cell_type": "code",
   "execution_count": 2,
   "metadata": {},
   "outputs": [
    {
     "data": {
      "text/html": [
       "\n",
       "        <table>\n",
       "            <tr>\n",
       "                <th style=\"text-align: left;\">Parameter</th>\n",
       "                <th style=\"text-align: left;\">Value</th>\n",
       "                <th style=\"text-align: left; vertical-align: top;\" rowspan=\"5\">History</th>\n",
       "            </tr>\n",
       "            <tr><td>Name</td><td>model</td><td rowspan=\"5\"><div style='text-align: left;'><ol><li>CompoundProcess (InfiniteBasement) with 1 sub-processes:\n",
       "    1. Bedrock: with z <= 0.0 and value 0.0</li><li>CompoundProcess (CoarseRepeatSediment) with 1 sub-processes:\n",
       "    1. Sedimentation: rock type values [4], and thicknesses 523.253, with base = nan</li><li>CompoundProcess (FourierFold) with 1 sub-processes:\n",
       "    1. Fold: strike 214.1°, dip 81.4°, rake 304.5°, period 5816.9,amplitude 326.2, origin ((0.00,0.00,0.00)).</li><li>CompoundProcess (SingleRandSediment) with 1 sub-processes:\n",
       "    1. Sedimentation: rock type values [2], and thicknesses 349.418, with base = nan</li><li>CompoundProcess (FineRepeatSediment) with 1 sub-processes:\n",
       "    1. Sedimentation: rock type values [5, 1], and thicknesses 278.796, 292.510, with base = nan</li><li>Shift: vector [   0.            0.         -582.24618319]</li></ol></div></td></tr>\n",
       "            <tr><td>Data Type</td><td><class 'numpy.float32'></td></tr>\n",
       "            <tr><td>Bounds</td><td>((-1000, 1000), (-1000, 1000), (-1000, 1000))</td></tr>\n",
       "            <tr><td>Resolution</td><td>(128, 128, 128)</td></tr>\n",
       "        </table>\n",
       "        "
      ],
      "text/plain": [
       "GeoModel(name=model, bounds=((-1000, 1000), (-1000, 1000), (-1000, 1000)), resolution=(128, 128, 128))"
      ]
     },
     "metadata": {},
     "output_type": "display_data"
    }
   ],
   "source": [
    "import geogen.generation as gen\n",
    "from geogen.model import GeoModel\n",
    "# Geo sentence fromed of geowords\n",
    "sentence = [gen.InfiniteBasement() , gen.CoarseRepeatSediment(), gen.FourierFold(), gen.SingleRandSediment(), gen.FineRepeatSediment()]\n",
    "hist = gen.generate_history(sentence) \n",
    "\n",
    "# Add history to a model to generate a 3D model\n",
    "model = GeoModel(bounds = (-1000,1000), resolution = 128)\n",
    "model.add_history(hist)\n",
    "model.compute_model(normalize = True)\n",
    "display(model) # Display a table of model information"
   ]
  },
  {
   "cell_type": "markdown",
   "metadata": {},
   "source": [
    "##"
   ]
  },
  {
   "cell_type": "markdown",
   "metadata": {},
   "source": [
    "### Model Review\n",
    "\n",
    "The model review is a simple Jupyter Notebook interface with buttons that allows for the review of the output of a defined model generator function. Using the `GeoWord` context\n"
   ]
  },
  {
   "cell_type": "markdown",
   "metadata": {},
   "source": [
    "##\n",
    "Model visualizations are available in the plot package. The "
   ]
  },
  {
   "cell_type": "code",
   "execution_count": 3,
   "metadata": {},
   "outputs": [
    {
     "data": {
      "application/vnd.jupyter.widget-view+json": {
       "model_id": "de2b5081c2e14eedbd3f0952b6590632",
       "version_major": 2,
       "version_minor": 0
      },
      "text/plain": [
       "HBox(children=(Button(description='Save Model', style=ButtonStyle()), Button(description='Discard Model', styl…"
      ]
     },
     "metadata": {},
     "output_type": "display_data"
    },
    {
     "data": {
      "application/vnd.jupyter.widget-view+json": {
       "model_id": "d2570861fff445488e35aa423043a1e3",
       "version_major": 2,
       "version_minor": 0
      },
      "text/plain": [
       "Output()"
      ]
     },
     "metadata": {},
     "output_type": "display_data"
    }
   ],
   "source": [
    "from geogen.plot import ModelReviewer\n",
    "\n",
    "# Save directory for models\n",
    "DEFAULT_BASE_DIR = \"../saved_models\"\n",
    "\n",
    "# Model resolution and bounds\n",
    "res = (128,128,64)\n",
    "bounds = ((-3840,3840),(-3840,3840),(-1920,1920)) \n",
    "def generate_model():\n",
    "    # Generate a randomized history from geowords, one single sample\n",
    "    hist = gen.generate_history(sentence)    \n",
    "    # Generate a model\n",
    "    model = GeoModel(bounds = bounds, resolution = res)\n",
    "    model.add_history(hist)\n",
    "    model.compute_model(normalize = True)\n",
    "    return model\n",
    "\n",
    "reviewer = ModelReviewer(generate_model_func=generate_model, base_dir=DEFAULT_BASE_DIR, show_history=True, single_view=False)\n",
    "reviewer.start_review()"
   ]
  },
  {
   "cell_type": "markdown",
   "metadata": {},
   "source": [
    "## Generation via Markov Chain\n",
    "\n",
    "Models can also be generated using a Markov sampling scheme on general GeoWord categories. This is the same type of sampling regime that is used to generate infinite synthetic datasets for Torch dataloaders. \n",
    "\n",
    "The `MarkovGeostoryGenerator` class reads a Markov matrix from a CSV file that specifies the transition probabilities between different geological events. The details of the file formatting can be found in the `generation/model_generators.py` MarkovMatrixParser class which handles the conversion into a MarkovChain object, supported by the library `PyDTMC` https://github.com/TommasoBelluzzo/PyDTMC. The file can be edited in a spreadsheet and exported as CSV from: https://docs.google.com/spreadsheets/d/1OzP1ewVcsB4IKpeLPMQyVwLWbeFcTm4OtPxi-n7J5Ng/edit?gid=0#gid=0\n",
    "\n",
    "A configuration file is provided by default if no configuration path is specified: i.e. `config = None`\n",
    "\n",
    "Note that the histories that are generated using this process can be quite long and complex"
   ]
  },
  {
   "cell_type": "code",
   "execution_count": 4,
   "metadata": {},
   "outputs": [
    {
     "data": {
      "application/vnd.jupyter.widget-view+json": {
       "model_id": "ae71c826f3ce498a950e62617a027f8c",
       "version_major": 2,
       "version_minor": 0
      },
      "text/plain": [
       "HBox(children=(Button(description='Save Model', style=ButtonStyle()), Button(description='Discard Model', styl…"
      ]
     },
     "metadata": {},
     "output_type": "display_data"
    },
    {
     "name": "stderr",
     "output_type": "stream",
     "text": [
      "c:\\users\\sghys\\summer2024\\structuralgeo\\src\\geogen\\generation\\categorical_events.py:105: RuntimeWarning: Probabilities sum to 0.8000, but should sum to 1.0. Renormalizing.\n",
      "  warnings.warn(\n"
     ]
    },
    {
     "data": {
      "application/vnd.jupyter.widget-view+json": {
       "model_id": "33b25dfa785d40b6bd380de28820f09a",
       "version_major": 2,
       "version_minor": 0
      },
      "text/plain": [
       "Output()"
      ]
     },
     "metadata": {},
     "output_type": "display_data"
    }
   ],
   "source": [
    "from geogen.plot import ModelReviewer\n",
    "from geogen.generation import MarkovGeostoryGenerator\n",
    "\n",
    "model_generator = MarkovGeostoryGenerator(\n",
    "    model_bounds=((-3840, 3840), (-3840, 3840), (-1920, 1920)),\n",
    "    model_resolution=(128, 128, 64),\n",
    "    config=None,\n",
    ")\n",
    "reviewer = ModelReviewer(\n",
    "    generate_model_func=model_generator.generate_model, base_dir=DEFAULT_BASE_DIR, show_history=True, single_view=False\n",
    ")\n",
    "reviewer.start_review()"
   ]
  },
  {
   "cell_type": "markdown",
   "metadata": {},
   "source": [
    "## Forming New GeoWords\n",
    "\n",
    "The contract for a geoword is that it simply needs to have a `build_ history()` function that will populate the `self.history` field.  For example we want to pair a fault with a dike randomly placed in the model. We can create a new `GeoWord` object that will encapsulate the random variables and the underlying processes. "
   ]
  },
  {
   "cell_type": "code",
   "execution_count": 5,
   "metadata": {},
   "outputs": [],
   "source": [
    "from geogen.model import Fault, DikePlane\n",
    "from geogen.probability import random_point_in_ellipsoid\n",
    "import numpy as np\n",
    "\n",
    "class MyFaultDikeWord(gen.GeoWord):\n",
    "    def build_history(self):\n",
    "        bounds = ((-3840,3840),(-3840,3840),(-1920,1920)) \n",
    "        strike = np.random.uniform(0, 360)\n",
    "        dip = np.random.uniform(75,90)\n",
    "        rake = np.random.uniform(0,360)\n",
    "        origin = random_point_in_ellipsoid(bounds)\n",
    "        # First a Fault\n",
    "        fault_params = {\n",
    "            'strike' : strike,\n",
    "            'dip' : dip,\n",
    "            'rake' : rake,\n",
    "            'amplitude' : np.random.lognormal(0,.25)*200,           \n",
    "            'origin' :    origin\n",
    "        }\n",
    "        fault = Fault(**fault_params)\n",
    "        # Then a Dike in the same area\n",
    "        dike_params = {\n",
    "            'strike' : strike,\n",
    "            'dip' : dip,          \n",
    "            'width' : np.random.normal(150,50),\n",
    "            'origin' :    origin\n",
    "        }\n",
    "        dike = DikePlane(**dike_params)\n",
    "        \n",
    "        self.add_process(fault)\n",
    "        self.add_process(dike)\n",
    "        # No return value needed\n",
    "        "
   ]
  },
  {
   "cell_type": "markdown",
   "metadata": {},
   "source": [
    "Now adding a new `GeoWord` object that encapsulates the fault and dike processes. To a sentence:"
   ]
  },
  {
   "cell_type": "code",
   "execution_count": 6,
   "metadata": {},
   "outputs": [
    {
     "data": {
      "application/vnd.jupyter.widget-view+json": {
       "model_id": "f7ded27774374152a76524684f1e2b87",
       "version_major": 2,
       "version_minor": 0
      },
      "text/plain": [
       "HBox(children=(Button(description='Save Model', style=ButtonStyle()), Button(description='Discard Model', styl…"
      ]
     },
     "metadata": {},
     "output_type": "display_data"
    },
    {
     "data": {
      "application/vnd.jupyter.widget-view+json": {
       "model_id": "53dba93022284236b1e56e52a90009a9",
       "version_major": 2,
       "version_minor": 0
      },
      "text/plain": [
       "Output()"
      ]
     },
     "metadata": {},
     "output_type": "display_data"
    }
   ],
   "source": [
    "sentence = [gen.InfiniteBasement() , gen.CoarseRepeatSediment(), gen.FourierFold(), gen.SingleRandSediment(), gen.FineRepeatSediment(), MyFaultDikeWord()]\n",
    "\n",
    "# Save directory for models\n",
    "DEFAULT_BASE_DIR = \"../saved_models\"\n",
    "\n",
    "# Model resolution and bounds\n",
    "res = (256,256,128)\n",
    "bounds = ((-3840,3840),(-3840,3840),(-1920,1920)) \n",
    "def generate_model():\n",
    "    # Generate a randomized history from geowords, one single sample\n",
    "    hist = gen.generate_history(sentence)    \n",
    "    # Generate a model\n",
    "    model = GeoModel(bounds = bounds, resolution = res)\n",
    "    model.add_history(hist)\n",
    "    model.compute_model(normalize = True)\n",
    "    return model\n",
    "\n",
    "reviewer = ModelReviewer(generate_model_func=generate_model, base_dir=DEFAULT_BASE_DIR)\n",
    "reviewer.start_review()"
   ]
  },
  {
   "cell_type": "markdown",
   "metadata": {},
   "source": [
    "### Nested GeoWords\n",
    "Similar to the underlying GeoProcesses, GeoWords can be nested to form more complex histories. For example, we can create a `GeoWord` that encapsulates a fault and a dike, and then use that in another `GeoWord` that encapsulates a basin and the fault-dike. A word can consist one or more GeoWords and GeoProcesses or a combination of both.\n",
    "\n",
    "Have a look at the available GeoWords and GeoProcesses to work with for inspiration."
   ]
  },
  {
   "cell_type": "code",
   "execution_count": 7,
   "metadata": {},
   "outputs": [],
   "source": [
    "class KitchenSink(gen.GeoWord):\n",
    "    def build_history(self):\n",
    "        self.add_process(gen.InfiniteBasement())\n",
    "        self.add_process(gen.CoarseRepeatSediment())\n",
    "        # Sample randomly from a list of geowords\n",
    "        word_options = [gen.CoarseRepeatSediment, gen.FourierFold, gen.ShapedFold, gen.SingleRandSediment, gen.FineRepeatSediment, MyFaultDikeWord]\n",
    "        for i in range(np.random.randint(2,5)):\n",
    "            word = np.random.choice(word_options)\n",
    "            self.add_process(word())\n",
    "        # No return value needed       "
   ]
  },
  {
   "cell_type": "code",
   "execution_count": 8,
   "metadata": {},
   "outputs": [
    {
     "data": {
      "application/vnd.jupyter.widget-view+json": {
       "model_id": "306ba1aa75644ba69cf23ad1b0564366",
       "version_major": 2,
       "version_minor": 0
      },
      "text/plain": [
       "HBox(children=(Button(description='Save Model', style=ButtonStyle()), Button(description='Discard Model', styl…"
      ]
     },
     "metadata": {},
     "output_type": "display_data"
    },
    {
     "data": {
      "application/vnd.jupyter.widget-view+json": {
       "model_id": "793089de909f4a15934d10409bc0bace",
       "version_major": 2,
       "version_minor": 0
      },
      "text/plain": [
       "Output()"
      ]
     },
     "metadata": {},
     "output_type": "display_data"
    }
   ],
   "source": [
    "sentence = [KitchenSink(), KitchenSink(), KitchenSink(),KitchenSink()]\n",
    "# Save directory for models\n",
    "DEFAULT_BASE_DIR = \"../saved_models\"\n",
    "\n",
    "# Model resolution and bounds\n",
    "res = (256,256,128)\n",
    "bounds = ((-3840,3840),(-3840,3840),(-1920,1920)) \n",
    "def generate_model():\n",
    "    # Generate a randomized history from geowords, one single sample\n",
    "    hist = gen.generate_history(sentence)    \n",
    "    # Generate a model\n",
    "    model = GeoModel(bounds = bounds, resolution = res)\n",
    "    model.add_history(hist)\n",
    "    model.compute_model(normalize = True)\n",
    "    return model\n",
    "\n",
    "reviewer = ModelReviewer(generate_model_func=generate_model, base_dir=DEFAULT_BASE_DIR)\n",
    "reviewer.start_review()"
   ]
  },
  {
   "cell_type": "code",
   "execution_count": 9,
   "metadata": {},
   "outputs": [],
   "source": [
    "import geogen.plot as geovis\n",
    "model = generate_model()\n",
    "p = geovis.volview(model,)"
   ]
  }
 ],
 "metadata": {
  "kernelspec": {
   "display_name": "ml",
   "language": "python",
   "name": "python3"
  },
  "language_info": {
   "codemirror_mode": {
    "name": "ipython",
    "version": 3
   },
   "file_extension": ".py",
   "mimetype": "text/x-python",
   "name": "python",
   "nbconvert_exporter": "python",
   "pygments_lexer": "ipython3",
   "version": "3.11.9"
  }
 },
 "nbformat": 4,
 "nbformat_minor": 2
}
